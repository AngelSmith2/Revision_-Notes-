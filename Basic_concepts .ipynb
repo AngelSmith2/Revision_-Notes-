{
 "cells": [
  {
   "cell_type": "markdown",
   "metadata": {},
   "source": [
    "# Python Code"
   ]
  },
  {
   "cell_type": "code",
   "execution_count": 5,
   "metadata": {},
   "outputs": [
    {
     "data": {
      "text/plain": [
       "'multi-line comments, \\n you can include the whole block in a set of triple quotation marks'"
      ]
     },
     "execution_count": 5,
     "metadata": {},
     "output_type": "execute_result"
    }
   ],
   "source": [
    "\"\"\"multi-line comments, \n",
    " you can include the whole block in a set of triple quotation marks\"\"\"\n"
   ]
  },
  {
   "cell_type": "markdown",
   "metadata": {},
   "source": [
    "# Input Basics"
   ]
  },
  {
   "cell_type": "code",
   "execution_count": null,
   "metadata": {},
   "outputs": [],
   "source": [
    "name = input (\"enter your something\")\n",
    "print(name)\n",
    "# we need a variable for the user to input their answer"
   ]
  },
  {
   "cell_type": "code",
   "execution_count": null,
   "metadata": {},
   "outputs": [],
   "source": [
    "foo = input(\"Enter a number: \")\n",
    "\n",
    "print(foo)\n",
    "# You can also take the value of the variable from the user input."
   ]
  },
  {
   "cell_type": "markdown",
   "metadata": {},
   "source": [
    "# Strings Basics "
   ]
  },
  {
   "cell_type": "code",
   "execution_count": null,
   "metadata": {},
   "outputs": [],
   "source": [
    "print(\"First string\" +  \" second string\")\n",
    "# strings in Python can be added, using a process called concatenation\n",
    "# Concatenation the adding of 2 or more strings"
   ]
  },
  {
   "cell_type": "code",
   "execution_count": null,
   "metadata": {},
   "outputs": [],
   "source": [
    "print (\"2\" + \"2\")\n",
    "# Print as a string not as integers as the answer would be 4\n",
    "# Adding a string to an integer will create an error due to the different entities"
   ]
  },
  {
   "cell_type": "code",
   "execution_count": null,
   "metadata": {},
   "outputs": [],
   "source": [
    "print(\"helloworld \"*3)\n",
    "# strings can be multiplied by integers, the string will be reapeat 'x' amount of times\n",
    "# strings can not be multiplied by other strings  \n",
    "# strings can not be multiplied by floats "
   ]
  },
  {
   "cell_type": "markdown",
   "metadata": {},
   "source": [
    "# Type Conversation"
   ]
  },
  {
   "cell_type": "code",
   "execution_count": null,
   "metadata": {},
   "outputs": [],
   "source": [
    "print(int(\"2\") + int(\"3\"))\n",
    "# To allow integers to be printed (not as a string) by using the int function"
   ]
  },
  {
   "cell_type": "code",
   "execution_count": null,
   "metadata": {},
   "outputs": [],
   "source": [
    "print(float(input(\"Enter a number: \")) + float(input(\"Enter another number: \")))\n",
    "# Another type conversion is turning user input (which is a string) to numbers (integers or floats),\n",
    "# To allow for the performance of calculations."
   ]
  },
  {
   "cell_type": "markdown",
   "metadata": {},
   "source": [
    "# Variables "
   ]
  },
  {
   "cell_type": "code",
   "execution_count": null,
   "metadata": {},
   "outputs": [],
   "source": [
    "x = 9\n",
    "print(x)\n",
    "print(x+6)\n",
    "# A variable allows you to store a value by assigning it to a name.\n",
    "# Variable = placeholder for text and numbers that is used store a value \n",
    "# To assign a variable, use one equals sign"
   ]
  },
  {
   "cell_type": "code",
   "execution_count": null,
   "metadata": {},
   "outputs": [],
   "source": [
    "x = 123.456\n",
    "print(x)\n",
    "\n",
    "x = \"This is a string\"\n",
    "print(x + \"!\")\n",
    "# Variables can be reassigned as many times as you want, in order to change their value.\n",
    "# you can assign a string to a variable, and later assign an integer to the same variable."
   ]
  },
  {
   "cell_type": "code",
   "execution_count": null,
   "metadata": {},
   "outputs": [],
   "source": [
    "# Restrictions to Variables: \n",
    "# The only characters that are allowed are letters, numbers, and underscores.\n",
    "# The Variable can not start with a number \n",
    "# del statement to remove a variable"
   ]
  },
  {
   "cell_type": "code",
   "execution_count": 6,
   "metadata": {},
   "outputs": [
    {
     "name": "stdout",
     "output_type": "stream",
     "text": [
      "Enter a number: \n",
      "\n"
     ]
    }
   ],
   "source": [
    "num = input(\"Enter a number: \")\n",
    "\n",
    "print(num)\n",
    "# You can also take the value of the variable from the user input."
   ]
  },
  {
   "cell_type": "markdown",
   "metadata": {},
   "source": [
    "# In Place Operators"
   ]
  },
  {
   "cell_type": "code",
   "execution_count": null,
   "metadata": {},
   "outputs": [],
   "source": [
    "x = 2\n",
    "print (x)\n",
    "x+=3\n",
    "print (x)\n",
    "# In-place operators allow you to write code like 'x = x + 3' more concisely, as 'x += 3'.\n",
    "# Can use other operators for this type of code "
   ]
  },
  {
   "cell_type": "code",
   "execution_count": null,
   "metadata": {},
   "outputs": [],
   "source": [
    "x = \"hello\"\n",
    "print (x)\n",
    "x+=world\n",
    "print (x)\n",
    "# Can be used on strings"
   ]
  }
 ],
 "metadata": {
  "kernelspec": {
   "display_name": "Python 3",
   "language": "python",
   "name": "python3"
  },
  "language_info": {
   "codemirror_mode": {
    "name": "ipython",
    "version": 3
   },
   "file_extension": ".py",
   "mimetype": "text/x-python",
   "name": "python",
   "nbconvert_exporter": "python",
   "pygments_lexer": "ipython3",
   "version": "3.5.2"
  }
 },
 "nbformat": 4,
 "nbformat_minor": 2
}
